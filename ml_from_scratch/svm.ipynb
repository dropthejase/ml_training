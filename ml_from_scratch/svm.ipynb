{
  "nbformat": 4,
  "nbformat_minor": 0,
  "metadata": {
    "colab": {
      "provenance": [],
      "authorship_tag": "ABX9TyORVRXqBliYStJJHJKn1GzP",
      "include_colab_link": true
    },
    "kernelspec": {
      "name": "python3",
      "display_name": "Python 3"
    },
    "language_info": {
      "name": "python"
    }
  },
  "cells": [
    {
      "cell_type": "markdown",
      "metadata": {
        "id": "view-in-github",
        "colab_type": "text"
      },
      "source": [
        "<a href=\"https://colab.research.google.com/github/dropthejase/ml_training/blob/main/ml_from_scratch/svm.ipynb\" target=\"_parent\"><img src=\"https://colab.research.google.com/assets/colab-badge.svg\" alt=\"Open In Colab\"/></a>"
      ]
    },
    {
      "cell_type": "code",
      "source": [
        "import numpy as np\n",
        "import pandas as pd\n",
        "import matplotlib.pyplot as plt\n",
        "from sklearn.utils import shuffle"
      ],
      "metadata": {
        "id": "4CTOmCsmbn-_"
      },
      "execution_count": null,
      "outputs": []
    },
    {
      "cell_type": "code",
      "execution_count": null,
      "metadata": {
        "id": "v0E2WqtmaO3h"
      },
      "outputs": [],
      "source": [
        "def get_data(train_split=0.8):\n",
        "  # col 1 are labels\n",
        "  data = pd.read_csv('sample_data/mnist_train_small.csv',header=None).values.astype(np.float32)\n",
        "  data = shuffle(data)\n",
        "\n",
        "  N = len(data)\n",
        "  idx = int(N * train_split)\n",
        "\n",
        "  Xtrain = data[:idx, 1:] / 255\n",
        "  Ytrain = data[:idx, 0].astype(np.int32)\n",
        "\n",
        "  Xtest = data[idx:, 1:] / 255\n",
        "  Ytest = data[idx:, 0].astype(np.int32)\n",
        "\n",
        "  return Xtrain, Xtest, Ytrain, Ytest"
      ]
    },
    {
      "cell_type": "code",
      "source": [
        "class SVM:\n",
        "  def __init__(self, C=0.5):\n",
        "    self.C = C\n",
        "\n",
        "  def fit(self, X, Y,  epochs=400, lr=0.0001):\n",
        "    N = X.shape[0]\n",
        "    D = X.shape[1]\n",
        "\n",
        "    self.W = np.rand.randn(D)\n",
        "    self.b = 0\n",
        "\n",
        "    for i in range(epochs):\n",
        "      \n",
        "      # forward pass\n",
        "      margin = Y * X.dot(self.W) + self.b\n",
        "\n",
        "      # calculate loss\n",
        "      losses = []\n",
        "      loss = 0.5 * self.W.dot(self.W) + self.c + np.maximum(0, 1 - margin).sum()\n",
        "      losses.append(loss)\n",
        "\n",
        "      # update gradients\n",
        "      idx = np.where(margin < 1)[0]\n",
        "      dW = self.w - self.C * Y[idx].dot(X[idx])\n",
        "      db = - self.C * Y[idx].sum()\n",
        "\n",
        "      self.w = self.w - lr*dW\n",
        "      self.b = self.b - lr*db\n",
        "\n",
        "    plt.plot(losses)\n",
        "    plt.show()\n",
        "\n",
        "  def predict(self, X):\n",
        "    return np.sign(X.dot(self.w) + self.b)\n",
        "  \n",
        "  def score(self, X, Y):\n",
        "    pred = self.predict(X)\n",
        "    return np.mean(Y == pred)\n",
        "\n"
      ],
      "metadata": {
        "id": "FaayqW_jnQO5"
      },
      "execution_count": null,
      "outputs": []
    }
  ]
}