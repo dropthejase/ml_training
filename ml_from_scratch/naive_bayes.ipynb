{
  "nbformat": 4,
  "nbformat_minor": 0,
  "metadata": {
    "colab": {
      "provenance": [],
      "authorship_tag": "ABX9TyMN1V53wfbxNpMU9Wj0nFV6",
      "include_colab_link": true
    },
    "kernelspec": {
      "name": "python3",
      "display_name": "Python 3"
    },
    "language_info": {
      "name": "python"
    }
  },
  "cells": [
    {
      "cell_type": "markdown",
      "metadata": {
        "id": "view-in-github",
        "colab_type": "text"
      },
      "source": [
        "<a href=\"https://colab.research.google.com/github/dropthejase/ml_training/blob/main/ml_from_scratch/naive_bayes.ipynb\" target=\"_parent\"><img src=\"https://colab.research.google.com/assets/colab-badge.svg\" alt=\"Open In Colab\"/></a>"
      ]
    },
    {
      "cell_type": "code",
      "execution_count": null,
      "metadata": {
        "id": "f1Gw0wrUhioP"
      },
      "outputs": [],
      "source": [
        "import numpy as np\n",
        "import pandas as pd\n",
        "import seaborn as sns\n",
        "import matplotlib.pyplot as plt\n",
        "from scipy.stats import multivariate_normal as mvn"
      ]
    },
    {
      "cell_type": "markdown",
      "source": [
        "**Bayes Theorem**"
      ],
      "metadata": {
        "id": "miWBhpsGh9I7"
      }
    },
    {
      "cell_type": "markdown",
      "source": [
        "\\begin{align}\n",
        "        P(Y | X) = \\frac{P(X | Y) P(Y)}{P(X)}\n",
        "    \\end{align}\n",
        "\n",
        "*Notes*\n",
        "\n",
        "* For all P(X | Y) we assume a Gaussian distribution\n",
        "* We can ignore P(X) as this is the same for all P(Y | X)s we'll be comparing\n",
        "* We can log the full formula, enabling us to use log(P(X|Y)) + log(P(Y)) \n",
        "\n"
      ],
      "metadata": {
        "id": "8LPq7BG0iQE2"
      }
    },
    {
      "cell_type": "markdown",
      "source": [
        "**PSEUDO CODE**"
      ],
      "metadata": {
        "id": "dOasH7iThn1K"
      }
    },
    {
      "cell_type": "code",
      "source": [
        "'''\n",
        "1. For each class, create means, vars for the likelihoods, and the prior probabilities P(Y)\n",
        "2. For each row of X_test, calculate the posteriors for each class\n",
        "3. For each row of X_test, compare the posteriors\n",
        "4. Create output of final posteriors for each row in X_test\n",
        "'''"
      ],
      "metadata": {
        "id": "mtjmrUF-hqei",
        "colab": {
          "base_uri": "https://localhost:8080/",
          "height": 52
        },
        "outputId": "80553cae-c095-4a9a-8131-1f5c2b4ff6b8"
      },
      "execution_count": null,
      "outputs": [
        {
          "output_type": "execute_result",
          "data": {
            "text/plain": [
              "'\\n1. For each class, create means, vars for the likelihoods, and the prior probabilities P(Y)\\n2. For each row of X_test, calculate the posteriors for each class\\n3. For each row of X_test, compare the posteriors\\n4. Create output of final posteriors for each row in X_test\\n'"
            ],
            "application/vnd.google.colaboratory.intrinsic+json": {
              "type": "string"
            }
          },
          "metadata": {},
          "execution_count": 80
        }
      ]
    },
    {
      "cell_type": "markdown",
      "source": [
        "**BUILDING THE NAIVE BAYES CLASSIFIER**"
      ],
      "metadata": {
        "id": "kIQIv3TYhx4s"
      }
    },
    {
      "cell_type": "code",
      "source": [
        "class NaiveBayes():\n",
        "  \n",
        "  def fit(self, X, y, smoothing=1e-2):\n",
        "\n",
        "    self.X_train = X\n",
        "    self.y_train = y\n",
        "\n",
        "    self.classes = np.unique(y)\n",
        "\n",
        "    self.x_means = {}\n",
        "    self.x_vars = {}\n",
        "    self.priors = {}\n",
        "\n",
        "    for y in self.classes:\n",
        "      temp_x = self.X_train[self.y_train == y]\n",
        "\n",
        "      self.x_means[y] = temp_x.mean(axis=0)\n",
        "      self.x_vars[y] = temp_x.var(axis=0) + smoothing\n",
        "      self.priors[y] = len(self.y_train[self.y_train == y]) / len(self.y_train)\n",
        "\n",
        "  def predict(self, X):\n",
        "    \n",
        "    X = np.array(X)\n",
        "\n",
        "    # for each row of X_test, calculate posteriors for each class\n",
        "    posteriors = []\n",
        "\n",
        "    for idx, x in enumerate(X):\n",
        "      temp_list = []\n",
        "\n",
        "      for key, item in self.priors.items():\n",
        "        posterior = mvn.logpdf(x, self.x_means[key], self.x_vars[key]) + np.log(item)\n",
        "        temp_list.append(posterior)\n",
        "        \n",
        "      posteriors.append(temp_list)\n",
        "\n",
        "    posteriors = np.array([np.argmax(posteriors[i]) for i in range(len(posteriors))])\n",
        "\n",
        "    return posteriors\n",
        "\n",
        "  def score(self, X, y):\n",
        "    X = self.predict(X)\n",
        "    return np.mean(X == y)"
      ],
      "metadata": {
        "id": "w5IK6RwvQ_td"
      },
      "execution_count": null,
      "outputs": []
    },
    {
      "cell_type": "markdown",
      "source": [
        "**TESTING THE MODEL**"
      ],
      "metadata": {
        "id": "NG-jlItBkoiB"
      }
    },
    {
      "cell_type": "code",
      "source": [
        "test = pd.DataFrame(data={'money':[1,0,1,0,1,1,0,0,1,0],\n",
        "                          'free':[1,1,0,1,1,0,0,1,0,0],\n",
        "                          'pills':[1,1,1,1,0,0,0,0,0,0],\n",
        "                          'spam':[1,1,1,1,1,0,0,0,0,0]},columns=['money','free','pills','spam'])\n",
        "\n",
        "X_train = test.drop('spam',axis=1)\n",
        "y_train = test['spam']\n",
        "\n",
        "X_test = test.iloc[8:].drop('spam',axis=1)\n",
        "y_test = test.iloc[8:]['spam']"
      ],
      "metadata": {
        "id": "9jMtwc8nkpOx"
      },
      "execution_count": null,
      "outputs": []
    },
    {
      "cell_type": "code",
      "source": [
        "nb = NaiveBayes()\n",
        "nb.fit(X_train,y_train)\n",
        "\n",
        "nb.predict(X_test)"
      ],
      "metadata": {
        "colab": {
          "base_uri": "https://localhost:8080/"
        },
        "id": "Zd0AhtS_k0AI",
        "outputId": "24dbaccb-12ca-4056-f231-814de092efd7"
      },
      "execution_count": null,
      "outputs": [
        {
          "output_type": "execute_result",
          "data": {
            "text/plain": [
              "array([0, 0])"
            ]
          },
          "metadata": {},
          "execution_count": 82
        }
      ]
    },
    {
      "cell_type": "code",
      "source": [
        "nb.score(X_test, y_test)"
      ],
      "metadata": {
        "colab": {
          "base_uri": "https://localhost:8080/"
        },
        "id": "r_3_poY_k7Rd",
        "outputId": "da064739-d5cd-4671-cf05-c4796ef37ea9"
      },
      "execution_count": null,
      "outputs": [
        {
          "output_type": "execute_result",
          "data": {
            "text/plain": [
              "1.0"
            ]
          },
          "metadata": {},
          "execution_count": 76
        }
      ]
    }
  ]
}