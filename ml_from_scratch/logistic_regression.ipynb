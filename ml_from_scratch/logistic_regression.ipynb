{
  "nbformat": 4,
  "nbformat_minor": 0,
  "metadata": {
    "colab": {
      "provenance": [],
      "authorship_tag": "ABX9TyNwqcKr31YrC3kYpLXYl5+l",
      "include_colab_link": true
    },
    "kernelspec": {
      "name": "python3",
      "display_name": "Python 3"
    },
    "language_info": {
      "name": "python"
    }
  },
  "cells": [
    {
      "cell_type": "markdown",
      "metadata": {
        "id": "view-in-github",
        "colab_type": "text"
      },
      "source": [
        "<a href=\"https://colab.research.google.com/github/dropthejase/ml_training/blob/main/ml_from_scratch/logistic_regression.ipynb\" target=\"_parent\"><img src=\"https://colab.research.google.com/assets/colab-badge.svg\" alt=\"Open In Colab\"/></a>"
      ]
    },
    {
      "cell_type": "code",
      "execution_count": null,
      "metadata": {
        "id": "YbaV4inuNdhn"
      },
      "outputs": [],
      "source": [
        "import numpy as np\n",
        "import pandas as pd\n",
        "import matplotlib.pyplot as plt\n",
        "import seaborn as sns"
      ]
    },
    {
      "cell_type": "code",
      "source": [
        "class LogisticRegression():\n",
        "\n",
        "  def __init__(self, iter=1000, lr=0.001, reg=None, reg_lambda=0.01):\n",
        "    self.iter = iter\n",
        "    self.lr = lr\n",
        "\n",
        "    self.reg = reg\n",
        "    self.reg_lambda = reg_lambda\n",
        "\n",
        "    self.weight = None\n",
        "    self.bias = None\n",
        "  \n",
        "  def fit(self, X_train, y_train):\n",
        "\n",
        "    N, D = X_train.shape\n",
        "    \n",
        "    # initialise w and b\n",
        "    self.weight = np.ones(D)\n",
        "    self.bias = 0\n",
        "\n",
        "    # regularisation\n",
        "    if self.reg == 'l1':\n",
        "      reg_dw = self.reg_lambda * (self.weight / np.abs(self.weight))\n",
        "    elif self.reg == 'l2':\n",
        "      reg_dw = self.reg_lambda * self.weight\n",
        "    else:\n",
        "      reg_dw = 0\n",
        "\n",
        "    # gradient descent\n",
        "    for _ in range(self.iter):\n",
        "\n",
        "      y_pred = self.predict(X_train)\n",
        "\n",
        "      dw = (1/N) * np.dot(X_train.T, (y_pred - y_train)) + reg_dw\n",
        "      db = (1/N) * np.sum(y_pred - y_train)\n",
        "\n",
        "      self.weight -= self.lr * dw\n",
        "      self.bias -= self.lr * db\n",
        "\n",
        "      #print(self.weight)\n",
        "\n",
        "  def predict(self, X):\n",
        "    a = np.dot(X, self.weight) + self.bias\n",
        "    y_pred = 1 / (1 + np.exp(-a))\n",
        "    return y_pred\n",
        "\n",
        "  def score(self, X_test, y_test, print=False):\n",
        "    N, D = X_test.shape\n",
        "    y_pred = np.round(self.predict(X_test)).astype(int)\n",
        "    accuracy = np.sum(y_pred == y_test) / N\n",
        "\n",
        "    return np.round(accuracy, 2)\n"
      ],
      "metadata": {
        "id": "VCHVTZx2NkbM"
      },
      "execution_count": null,
      "outputs": []
    },
    {
      "cell_type": "markdown",
      "source": [
        "**LOAD SAMPLE DATA**"
      ],
      "metadata": {
        "id": "RWrqmhQws_N8"
      }
    },
    {
      "cell_type": "code",
      "source": [
        "from sklearn import datasets\n",
        "\n",
        "iris = datasets.load_iris()"
      ],
      "metadata": {
        "id": "47byzPHus-sU"
      },
      "execution_count": null,
      "outputs": []
    },
    {
      "cell_type": "code",
      "source": [
        "df = pd.DataFrame(iris.data, columns=['sepal_length','sepal_width','petal_length','petal_width'])\n",
        "df['target'] = iris.target"
      ],
      "metadata": {
        "id": "YmXpCgwFtGRz"
      },
      "execution_count": null,
      "outputs": []
    },
    {
      "cell_type": "code",
      "source": [
        "# remove a type of iris to leave two only\n",
        "df = df[df['target']<2]"
      ],
      "metadata": {
        "id": "qkFV9s_04Co2"
      },
      "execution_count": null,
      "outputs": []
    },
    {
      "cell_type": "code",
      "source": [
        "df = df.sample(frac = 1)"
      ],
      "metadata": {
        "id": "_yMABY6TtG56"
      },
      "execution_count": null,
      "outputs": []
    },
    {
      "cell_type": "code",
      "source": [
        "df.reset_index(inplace=True)"
      ],
      "metadata": {
        "id": "bZHbgaU74xU9"
      },
      "execution_count": null,
      "outputs": []
    },
    {
      "cell_type": "code",
      "source": [
        "df = df.drop('index',axis=1)"
      ],
      "metadata": {
        "id": "Bm19kTbt1Dn1"
      },
      "execution_count": null,
      "outputs": []
    },
    {
      "cell_type": "markdown",
      "source": [
        "**TRAIN TEST SPLIT**"
      ],
      "metadata": {
        "id": "c8QE8otc1ip2"
      }
    },
    {
      "cell_type": "code",
      "source": [
        "from sklearn.model_selection import train_test_split"
      ],
      "metadata": {
        "id": "rTluxPdS1kte"
      },
      "execution_count": null,
      "outputs": []
    },
    {
      "cell_type": "code",
      "source": [
        "X = df.drop('target',axis=1)\n",
        "y = df['target']"
      ],
      "metadata": {
        "id": "wbTxr-e18Er4"
      },
      "execution_count": null,
      "outputs": []
    },
    {
      "cell_type": "code",
      "source": [
        "X_train, X_test, y_train, y_test = train_test_split(X, y, test_size=0.33, random_state=42)"
      ],
      "metadata": {
        "id": "ljvTI3le1tg3"
      },
      "execution_count": null,
      "outputs": []
    },
    {
      "cell_type": "markdown",
      "source": [
        "**TEST THE MODEL**"
      ],
      "metadata": {
        "id": "zPo1ApMk5UXw"
      }
    },
    {
      "cell_type": "code",
      "source": [
        "reg = LogisticRegression()"
      ],
      "metadata": {
        "id": "uTCypAxJ8JoV"
      },
      "execution_count": null,
      "outputs": []
    },
    {
      "cell_type": "code",
      "source": [
        "reg.fit(X_train, y_train)"
      ],
      "metadata": {
        "id": "eNb5m3R88L3Z"
      },
      "execution_count": null,
      "outputs": []
    },
    {
      "cell_type": "code",
      "source": [
        "{'weights': np.round(reg.weight,2), 'biases': np.round(reg.bias,2)}"
      ],
      "metadata": {
        "colab": {
          "base_uri": "https://localhost:8080/"
        },
        "id": "Q-oo9XZkwpxD",
        "outputId": "3d436e77-bc34-4f75-963d-64b276b2895f"
      },
      "execution_count": null,
      "outputs": [
        {
          "output_type": "execute_result",
          "data": {
            "text/plain": [
              "{'weights': array([-0.39,  0.01,  0.68,  0.97]), 'biases': -0.28}"
            ]
          },
          "metadata": {},
          "execution_count": 102
        }
      ]
    },
    {
      "cell_type": "code",
      "source": [
        "np.round(reg.predict(X_test),).astype(int)"
      ],
      "metadata": {
        "colab": {
          "base_uri": "https://localhost:8080/"
        },
        "id": "O9byhneV8OuR",
        "outputId": "186cdf2a-f123-4618-cd99-843bdc2ac1c6"
      },
      "execution_count": null,
      "outputs": [
        {
          "output_type": "execute_result",
          "data": {
            "text/plain": [
              "array([0, 1, 0, 0, 1, 1, 0, 0, 0, 0, 0, 1, 1, 1, 0, 0, 0, 1, 0, 1, 0, 0,\n",
              "       1, 1, 1, 1, 0, 0, 0, 1, 0, 0, 1])"
            ]
          },
          "metadata": {},
          "execution_count": 103
        }
      ]
    },
    {
      "cell_type": "code",
      "source": [
        "reg.score(X_test, y_test)"
      ],
      "metadata": {
        "colab": {
          "base_uri": "https://localhost:8080/"
        },
        "id": "XMvedyAV8tpJ",
        "outputId": "c7191a54-9624-4e8b-e16f-5e56ecd969e7"
      },
      "execution_count": null,
      "outputs": [
        {
          "output_type": "execute_result",
          "data": {
            "text/plain": [
              "1.0"
            ]
          },
          "metadata": {},
          "execution_count": 104
        }
      ]
    },
    {
      "cell_type": "code",
      "source": [
        "eval = pd.DataFrame(y_test)\n",
        "eval['predicted'] = np.round(reg.predict(X_test),).astype(int)\n",
        "eval"
      ],
      "metadata": {
        "id": "i3bQPJwq9Wb2"
      },
      "execution_count": null,
      "outputs": []
    },
    {
      "cell_type": "markdown",
      "source": [
        "**Compare with Scikit Learn**"
      ],
      "metadata": {
        "id": "5aNZ7t0rwJzz"
      }
    },
    {
      "cell_type": "code",
      "source": [
        "from sklearn import linear_model"
      ],
      "metadata": {
        "id": "G05auXTawIu0"
      },
      "execution_count": null,
      "outputs": []
    },
    {
      "cell_type": "code",
      "source": [
        "reg_scikit = linear_model.LogisticRegression()"
      ],
      "metadata": {
        "id": "ubIgT4yMwIno"
      },
      "execution_count": null,
      "outputs": []
    },
    {
      "cell_type": "code",
      "source": [
        "reg_scikit.fit(X_train, y_train)"
      ],
      "metadata": {
        "colab": {
          "base_uri": "https://localhost:8080/"
        },
        "id": "loueGSuswIeh",
        "outputId": "e46ef302-adcc-451e-9d65-230a2f0f0306"
      },
      "execution_count": null,
      "outputs": [
        {
          "output_type": "execute_result",
          "data": {
            "text/plain": [
              "LogisticRegression()"
            ]
          },
          "metadata": {},
          "execution_count": 31
        }
      ]
    },
    {
      "cell_type": "code",
      "source": [
        "{'weights': np.round(reg_scikit.coef_,2), 'biases': np.round(reg_scikit.intercept_,2)}"
      ],
      "metadata": {
        "colab": {
          "base_uri": "https://localhost:8080/"
        },
        "id": "OWAvE9dbwIQp",
        "outputId": "a2ea5a86-a26a-42f5-938c-b41a9c747f2e"
      },
      "execution_count": null,
      "outputs": [
        {
          "output_type": "execute_result",
          "data": {
            "text/plain": [
              "{'weights': array([[ 0.37, -0.77,  2.13,  0.9 ]]), 'biases': array([-5.96])}"
            ]
          },
          "metadata": {},
          "execution_count": 32
        }
      ]
    },
    {
      "cell_type": "code",
      "source": [
        "np.round(reg_scikit.predict(X_test),0)"
      ],
      "metadata": {
        "colab": {
          "base_uri": "https://localhost:8080/"
        },
        "id": "qOcYN2RPxVbP",
        "outputId": "37b8c892-1330-4c6c-a7dc-b0dc9c83435d"
      },
      "execution_count": null,
      "outputs": [
        {
          "output_type": "execute_result",
          "data": {
            "text/plain": [
              "array([0, 1, 0, 0, 1, 1, 0, 0, 0, 0, 0, 1, 1, 1, 0, 0, 0, 1, 0, 1, 0, 0,\n",
              "       1, 1, 1, 1, 0, 0, 0, 1, 0, 0, 1])"
            ]
          },
          "metadata": {},
          "execution_count": 33
        }
      ]
    },
    {
      "cell_type": "code",
      "source": [
        "reg_scikit.score(X_test, y_test)"
      ],
      "metadata": {
        "colab": {
          "base_uri": "https://localhost:8080/"
        },
        "id": "O_zt_9oVxEzq",
        "outputId": "79b26cb3-2177-4598-d584-ead03e9bf5e1"
      },
      "execution_count": null,
      "outputs": [
        {
          "output_type": "execute_result",
          "data": {
            "text/plain": [
              "1.0"
            ]
          },
          "metadata": {},
          "execution_count": 34
        }
      ]
    }
  ]
}