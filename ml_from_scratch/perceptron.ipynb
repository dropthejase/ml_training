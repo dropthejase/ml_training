{
  "nbformat": 4,
  "nbformat_minor": 0,
  "metadata": {
    "colab": {
      "provenance": [],
      "toc_visible": true,
      "authorship_tag": "ABX9TyOC3NY2CK+Aq51lSlFo9c3H",
      "include_colab_link": true
    },
    "kernelspec": {
      "name": "python3",
      "display_name": "Python 3"
    },
    "language_info": {
      "name": "python"
    }
  },
  "cells": [
    {
      "cell_type": "markdown",
      "metadata": {
        "id": "view-in-github",
        "colab_type": "text"
      },
      "source": [
        "<a href=\"https://colab.research.google.com/github/dropthejase/ml_training/blob/main/ml_from_scratch/perceptron.ipynb\" target=\"_parent\"><img src=\"https://colab.research.google.com/assets/colab-badge.svg\" alt=\"Open In Colab\"/></a>"
      ]
    },
    {
      "cell_type": "code",
      "source": [
        "import numpy as np\n",
        "import pandas as pd\n",
        "import seaborn as sns\n",
        "import matplotlib.pyplot as plt"
      ],
      "metadata": {
        "id": "J9n8kAW_pw9y"
      },
      "execution_count": null,
      "outputs": []
    },
    {
      "cell_type": "code",
      "execution_count": null,
      "metadata": {
        "id": "Uc3yCmPgFSQE"
      },
      "outputs": [],
      "source": [
        "class Perceptron:\n",
        "  def __init__(self, epoch=1000, lr=0.1):\n",
        "    self.epoch = epoch\n",
        "    self.lr = lr\n",
        "    self.w = None\n",
        "    self.b = 0\n",
        "    \n",
        "  def fit(self, X, Y):\n",
        "\n",
        "    N, D = X.shape\n",
        "\n",
        "    # initialise w\n",
        "    self.w = np.random.randn(D)\n",
        "    \n",
        "    for _ in range(self.epoch):\n",
        "      y_pred = self.predict(X)\n",
        "\n",
        "      # if no misclassified samples, break\n",
        "      if np.sum(Y != y_pred) == 0:\n",
        "        break\n",
        "      \n",
        "      # pick random index from misclassified samples\n",
        "      else:\n",
        "        incorrect = (Y != y_pred)\n",
        "        incorrect_idxs = np.where(incorrect == True)[0]\n",
        "        rand_idx = np.random.choice(incorrect_indexes)\n",
        "\n",
        "        self.w = self.w + self.lr * X[rand_idx] * Y[rand_idx]\n",
        "        self.b = self.b + self.lr * Y[rand_idx]\n",
        "\n",
        "  def predict(self, X):\n",
        "    pred = np.dot(X, self.w) + self.b\n",
        "    return np.sign(pred)\n",
        "  \n",
        "  def score(self, X, Y):\n",
        "    y_pred = self.predict(X)\n",
        "    return np.round(np.mean(Y == y_pred))\n"
      ]
    },
    {
      "cell_type": "markdown",
      "source": [
        "**TEST THE MODEL**"
      ],
      "metadata": {
        "id": "ixloah3QqEBh"
      }
    },
    {
      "cell_type": "code",
      "source": [
        "from sklearn import datasets\n",
        "iris = datasets.load_iris()\n",
        "\n",
        "df = pd.DataFrame(iris.data, columns=['sepal_length','sepal_width','petal_length','petal_width'])\n",
        "df['target'] = iris.target\n",
        "\n",
        "# make this a binary classification dataset, and replace output 0 to -1\n",
        "df = df[df['target'] < 2]\n",
        "df['target'] = df['target'].replace(0,-1)\n",
        "\n",
        "# shuffle data\n",
        "df = df.sample(frac=1) \n",
        "\n",
        "X = df.drop('target',axis=1)\n",
        "y = df['target']\n",
        "\n",
        "from sklearn.model_selection import train_test_split\n",
        "\n",
        "X_train, X_test, y_train, y_test = train_test_split(X, y, test_size=0.33, random_state=42)\n",
        "\n",
        "X_train = np.array(X_train)\n",
        "X_test = np.array(X_test)\n",
        "y_train = np.array(y_train)\n",
        "y_test = np.array(y_test)\n"
      ],
      "metadata": {
        "id": "LYC3bHoNti1I"
      },
      "execution_count": null,
      "outputs": []
    },
    {
      "cell_type": "code",
      "source": [
        "p = Perceptron(epoch=100)\n",
        "p.fit(X_train, y_train)\n",
        "p.w, p.b"
      ],
      "metadata": {
        "id": "o8baTOu5qeBS",
        "colab": {
          "base_uri": "https://localhost:8080/"
        },
        "outputId": "0b10515b-a38a-4c94-a33c-e0c50721dc84"
      },
      "execution_count": null,
      "outputs": [
        {
          "output_type": "execute_result",
          "data": {
            "text/plain": [
              "(array([ -6.79897029, -13.264605  ,   5.81585856,   2.64118023]),\n",
              " -3.0000000000000013)"
            ]
          },
          "metadata": {},
          "execution_count": 284
        }
      ]
    },
    {
      "cell_type": "code",
      "source": [
        "p.predict(X_test)"
      ],
      "metadata": {
        "colab": {
          "base_uri": "https://localhost:8080/"
        },
        "id": "yGEp2Fnvw0eU",
        "outputId": "c6853188-cf35-4f5a-d4ca-21b6bf7a133e"
      },
      "execution_count": null,
      "outputs": [
        {
          "output_type": "execute_result",
          "data": {
            "text/plain": [
              "array([-1.,  1., -1.,  1.,  1.,  1., -1., -1.,  1., -1.,  1.,  1., -1.,\n",
              "        1.,  1.,  1., -1.,  1.,  1., -1.,  1., -1., -1., -1., -1., -1.,\n",
              "       -1., -1.,  1.,  1., -1.,  1.,  1.])"
            ]
          },
          "metadata": {},
          "execution_count": 281
        }
      ]
    },
    {
      "cell_type": "code",
      "source": [
        "p.score(X_test, y_test)"
      ],
      "metadata": {
        "colab": {
          "base_uri": "https://localhost:8080/"
        },
        "id": "EIPBdnSZw0pH",
        "outputId": "9c376e8b-99ad-4811-d578-dd7703906423"
      },
      "execution_count": null,
      "outputs": [
        {
          "output_type": "execute_result",
          "data": {
            "text/plain": [
              "1.0"
            ]
          },
          "metadata": {},
          "execution_count": 282
        }
      ]
    }
  ]
}