{
  "nbformat": 4,
  "nbformat_minor": 0,
  "metadata": {
    "colab": {
      "provenance": [],
      "toc_visible": true,
      "authorship_tag": "ABX9TyNDl+7jonjY6x6Nd/Yb1t3w",
      "include_colab_link": true
    },
    "kernelspec": {
      "name": "python3",
      "display_name": "Python 3"
    },
    "language_info": {
      "name": "python"
    }
  },
  "cells": [
    {
      "cell_type": "markdown",
      "metadata": {
        "id": "view-in-github",
        "colab_type": "text"
      },
      "source": [
        "<a href=\"https://colab.research.google.com/github/dropthejase/ml_training/blob/main/ml_from_scratch/decision_trees.ipynb\" target=\"_parent\"><img src=\"https://colab.research.google.com/assets/colab-badge.svg\" alt=\"Open In Colab\"/></a>"
      ]
    },
    {
      "cell_type": "code",
      "source": [
        "import numpy as np\n",
        "import pandas as pd\n",
        "import seaborn as sns\n",
        "import matplotlib.pyplot as plt"
      ],
      "metadata": {
        "id": "J9n8kAW_pw9y"
      },
      "execution_count": null,
      "outputs": []
    },
    {
      "cell_type": "markdown",
      "source": [
        "**PREPARE DATA TO TEST MODEL**"
      ],
      "metadata": {
        "id": "ixloah3QqEBh"
      }
    },
    {
      "cell_type": "markdown",
      "source": [
        "I prepped the train/test data first because I had to continually use it to test my model and debug it!"
      ],
      "metadata": {
        "id": "ihfVImg774lX"
      }
    },
    {
      "cell_type": "code",
      "source": [
        "from sklearn import datasets\n",
        "iris = datasets.load_iris()\n",
        "\n",
        "df = pd.DataFrame(iris.data, columns=['sepal_length','sepal_width','petal_length','petal_width'])\n",
        "df['target'] = iris.target\n",
        "\n",
        "df = df.sample(frac=1) # shuffle data\n",
        "\n",
        "X = df.drop('target',axis=1)\n",
        "y = df['target']\n",
        "\n",
        "from sklearn.model_selection import train_test_split\n",
        "\n",
        "X_train, X_test, y_train, y_test = train_test_split(X, y, test_size=0.33, random_state=42)\n",
        "\n",
        "X_train = np.array(X_train)\n",
        "X_test = np.array(X_test)\n",
        "y_train = np.array(y_train)\n",
        "y_test = np.array(y_test)\n",
        "\n"
      ],
      "metadata": {
        "id": "QJOONdL7qHgy"
      },
      "execution_count": null,
      "outputs": []
    },
    {
      "cell_type": "markdown",
      "source": [
        "**MY VERSION**"
      ],
      "metadata": {
        "id": "U67-rtA6qq2m"
      }
    },
    {
      "cell_type": "markdown",
      "source": [
        "**Fit function**\n",
        "1. Find the best split using a function, and store the split and column that gives the best IG as attributes\n",
        "2. Then split X_train and Y_train based on the best_split and best_col\n",
        "3. For each of self.left and self.right, call TreeNode() object and fit recursively\n",
        "4. Be aware of base cases:\n",
        "    - If max IG is 0, it's a leaf - show mean prediction\n",
        "    - If current depth == max_depth, give mean prediction\n",
        "    - If only one sample in dataset, return label in that sample\n",
        "    - If > 1 sample, but they have the same label, return that label\n",
        "\n",
        "**Best split function**\n",
        "\n",
        "For class in classes...:\n",
        "1. Sort Xs for class in ascending order and sort Y correspondingly\n",
        "2. Split X in the middle\n",
        "3. Find IG from splitting at boundary and store\n",
        "4. Compare IGs amongst the classes\n",
        "5. Store the best class/column, split, and IG which gives the max IG\n",
        "\n",
        "**Predict function**\n",
        "1. For each X_test row, pull best_col of X\n",
        "2. Compare this value to best_split\n",
        "3. If < best_split and self.left not empty, predict on self.left. Likewise if >= best_split. Otherwise if the self.left or self.right nodes are empty, give the self.prediction\n",
        "4. If no self.col or self.split, then just give the prediction"
      ],
      "metadata": {
        "id": "ImGkMNy08NbQ"
      }
    },
    {
      "cell_type": "code",
      "source": [
        "# Sort Xs for current column in ascending order, sort Y in corresponding way\n",
        "# Find boundary points where Y changes from one value to another\n",
        "\n",
        "def entropy(y):\n",
        "  N = len(y)\n",
        "  s1 = (y == 1).sum()\n",
        "  if 0 == s1 or N == s1:\n",
        "    return 0\n",
        "  \n",
        "  p1 = float(s1) / N\n",
        "  p0 = 1 - p1\n",
        "\n",
        "  return -p0*np.log2(p0) - p1*np.log2(p1)\n",
        "\n",
        "class TreeNode:\n",
        "  def __init__(self, depth=0, max_depth=2):\n",
        "    self.depth = depth\n",
        "    self.max_depth = max_depth\n",
        "    if max_depth is not None and depth > max_depth:\n",
        "      raise Exception(\"self_depth is larger than max_depth\")\n",
        "\n",
        "  def fit(self, X, Y):\n",
        "    # if there's only 1 label in Y, so we can't split so we just predict the label\n",
        "    if len(Y) == 1 or len(set(Y)) == 1:\n",
        "      self.col = None\n",
        "      self.split = None\n",
        "      self.left = None\n",
        "      self.right = None\n",
        "      self.prediction = Y[0]\n",
        "    \n",
        "    # else give the best D, split, IG\n",
        "    else:\n",
        "      split = self.find_split(X, Y)\n",
        "      best_col = split[0] # i.e. best D\n",
        "      best_split = split[1]\n",
        "      max_ig = split[2]\n",
        "\n",
        "      # if max_ig == 0, then it's a leaf node\n",
        "      if max_ig == 0:\n",
        "        self.col = None\n",
        "        self.split = None\n",
        "        self.left = None\n",
        "        self.right = None\n",
        "        self.prediction = np.round(np.mean(Y))\n",
        "\n",
        "      # else create the split\n",
        "      else:\n",
        "        self.col = best_col\n",
        "        self.split = best_split\n",
        "\n",
        "        # if max_depth reached...no more split, we have a prediction for the left and right sides\n",
        "        if self.depth == self.max_depth:\n",
        "          self.prediction = [\n",
        "              np.round(Y[X[:, self.col] < self.split].mean()), # left\n",
        "              np.round(Y[X[:, self.col] >= self.split].mean()), # right\n",
        "          ]\n",
        "      \n",
        "        # if not max_depth then we need to do a recurssion and slice X, Y according to best_split and best_col\n",
        "        else:\n",
        "          self.left = TreeNode(depth=self.depth+1,max_depth=self.max_depth)\n",
        "          Xleft = X[X[:, self.col] < self.split]\n",
        "          Yleft = Y[X[:, self.col] < self.split]\n",
        "          self.left.fit(Xleft, Yleft)\n",
        "\n",
        "          self.right = TreeNode(depth=self.depth+1,max_depth=self.max_depth)\n",
        "          Xright = X[X[:, self.col] >= self.split]\n",
        "          Yright = Y[X[:, self.col] >= self.split]\n",
        "          self.right.fit(Xright, Yright)         \n",
        "\n",
        "  def find_split(self, X, Y):\n",
        "    \n",
        "    N, D = X.shape\n",
        "    mid = int(N/2)-1\n",
        "\n",
        "    # for each feature, sort the X, sort the Ys, find the IGs, get max IG, then return the optimal split\n",
        "    igs = [] # dimension, split, IG\n",
        "    \n",
        "    for _ in range(D):\n",
        "      temp_list = []\n",
        "      temp_list.append(_)\n",
        "\n",
        "      # sort the Xs and Ys for a given feature D\n",
        "      X_sorted = X[:,_]\n",
        "      sorted_idx = np.argsort(X_sorted)\n",
        "      X_sorted = X_sorted[sorted_idx]\n",
        "      Y_sorted = Y[sorted_idx]\n",
        "\n",
        "      # take the midpoint of X values and split\n",
        "      split = (X_sorted[mid] + X_sorted[mid+1]) / 2\n",
        "      temp_list.append(split)\n",
        "\n",
        "      ig = self.information_gain(X_sorted, Y_sorted, split)\n",
        "      temp_list.append(ig)\n",
        "      igs.append(temp_list)\n",
        "    \n",
        "    #print(igs)\n",
        "\n",
        "    max_ig = max(igs, key=lambda x:x[2]) # get max IG in [D, split, IG] list\n",
        "    return max_ig\n",
        "\n",
        "  def information_gain(self, X, Y, split):\n",
        "    N = len(Y)\n",
        "    y0 = Y[X < split]\n",
        "    y1 = Y[X >= split]\n",
        "\n",
        "    w0 = len(y0) / N\n",
        "    w1 = 1-w0\n",
        "\n",
        "    return 1 - w0*entropy(y0) - w1*entropy(y1)\n",
        "\n",
        "  def predict_one(self, X):\n",
        "    if self.col is not None and self.split is not None:\n",
        "      feature = X[self.col]\n",
        "      if feature < self.split: # if less than split, go left\n",
        "        if self.left: # if self.left is not None, recursion otherwise give left prediction\n",
        "          p = self.left.predict_one(X)\n",
        "        else:\n",
        "          p = self.prediction[0]\n",
        "  \n",
        "      else:\n",
        "        if self.right: # if self.right is not None, recursion otherwise give right prediction\n",
        "          p = self.right.predict_one(X)\n",
        "        else:\n",
        "          p = self.prediction[1]\n",
        "        \n",
        "    else: # corresponds to having only 1 prediction\n",
        "      p = self.prediction\n",
        "      \n",
        "    return p\n",
        "  \n",
        "  def predict(self, X):\n",
        "    N = len(X)\n",
        "    P = np.zeros(N)\n",
        "    for i in range(N):\n",
        "      P[i] = self.predict_one(X[i])\n",
        "    return P\n",
        "\n",
        "class DecisionTree:\n",
        "  def __init__(self, max_depth=None):\n",
        "    self.max_depth = max_depth\n",
        "\n",
        "  def fit(self, X, Y):\n",
        "    self.root = TreeNode(max_depth = self.max_depth)\n",
        "    self.root.fit(X, Y)\n",
        "\n",
        "  def predict(self, X):\n",
        "    return self.root.predict(X)\n",
        "\n",
        "  def score(self, X, Y):\n",
        "    P = self.predict(X)\n",
        "    return np.mean (P==Y)"
      ],
      "metadata": {
        "id": "v3dJUypit6gi"
      },
      "execution_count": null,
      "outputs": []
    },
    {
      "cell_type": "code",
      "source": [
        "DT = DecisionTree()\n",
        "DT.fit(X_train, y_train)\n",
        "DT.predict(X_test)\n",
        "DT.score(X_test, y_test)"
      ],
      "metadata": {
        "id": "i746ywIQz7tZ",
        "colab": {
          "base_uri": "https://localhost:8080/"
        },
        "outputId": "e0ad98d6-a6e1-4945-caa3-d5c00f851671"
      },
      "execution_count": null,
      "outputs": [
        {
          "output_type": "execute_result",
          "data": {
            "text/plain": [
              "0.92"
            ]
          },
          "metadata": {},
          "execution_count": 15
        }
      ]
    },
    {
      "cell_type": "code",
      "source": [],
      "metadata": {
        "id": "XlEVbao_7Vrh"
      },
      "execution_count": null,
      "outputs": []
    }
  ]
}